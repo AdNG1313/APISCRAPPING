{
 "cells": [
  {
   "cell_type": "markdown",
   "id": "bb002abd-6634-42c9-84d1-6ae82a54dd20",
   "metadata": {},
   "source": [
    "### Alejandro de Nicolás Gómez"
   ]
  },
  {
   "cell_type": "markdown",
   "id": "a9233f29",
   "metadata": {},
   "source": [
    "## IMPORTS"
   ]
  },
  {
   "cell_type": "code",
   "execution_count": 1,
   "id": "b2f78b12-33b0-413f-ab8e-f4a5f1d5cf8c",
   "metadata": {},
   "outputs": [],
   "source": [
    "import requests\n",
    "import pandas as pd\n",
    "from bs4 import BeautifulSoup"
   ]
  },
  {
   "cell_type": "markdown",
   "id": "69d826c5",
   "metadata": {},
   "source": [
    "## EX 1"
   ]
  },
  {
   "cell_type": "code",
   "execution_count": 14,
   "id": "a9599972",
   "metadata": {},
   "outputs": [],
   "source": [
    "#COINMARKETCAP - páxina de información sobre criptomonedas\n",
    "#https://coinmarketcap.com/api/documentation/v1/#operation/getV1CryptocurrencyMap"
   ]
  },
  {
   "cell_type": "code",
   "execution_count": 31,
   "id": "57fb3dda",
   "metadata": {},
   "outputs": [],
   "source": []
  },
  {
   "cell_type": "code",
   "execution_count": 101,
   "id": "510e05e6",
   "metadata": {},
   "outputs": [],
   "source": [
    "#PREZO DAS PRIMEIRAS 10 CRIPTODIVISAS"
   ]
  },
  {
   "cell_type": "code",
   "execution_count": 108,
   "id": "7565ae70",
   "metadata": {},
   "outputs": [],
   "source": []
  },
  {
   "cell_type": "code",
   "execution_count": 109,
   "id": "dc39f776",
   "metadata": {},
   "outputs": [],
   "source": [
    "#PREZO ACTUAL EN EUROS E SIMBOLO DO DOGECOIN"
   ]
  },
  {
   "cell_type": "code",
   "execution_count": null,
   "id": "230f47d9",
   "metadata": {},
   "outputs": [],
   "source": []
  },
  {
   "cell_type": "code",
   "execution_count": 64,
   "id": "a9a346ce-2503-4beb-8e46-4b933c83f452",
   "metadata": {},
   "outputs": [],
   "source": [
    "#LOGO (EN IMAXE) E PAXINA DO DOGECOIN E BITCOIN (BTC) \n",
    "#UTILIZANDO OS SEU SIMBOLOS PARA O REQUEST\n",
    "#from IPython import display"
   ]
  },
  {
   "cell_type": "code",
   "execution_count": 6,
   "id": "00d19347",
   "metadata": {},
   "outputs": [],
   "source": []
  },
  {
   "cell_type": "code",
   "execution_count": null,
   "id": "01a0e416-cb55-4928-bf0b-9f5e55786858",
   "metadata": {},
   "outputs": [],
   "source": [
    "#NOVO REQUEST PARA VER OS FIAT ORDENADOS POR ORDE ALFABETICA"
   ]
  },
  {
   "cell_type": "code",
   "execution_count": 26,
   "id": "8304b641",
   "metadata": {},
   "outputs": [],
   "source": []
  },
  {
   "cell_type": "code",
   "execution_count": 65,
   "id": "2d4bca4c-0ff8-4d23-b746-eb385fbeb1d2",
   "metadata": {},
   "outputs": [],
   "source": [
    "#DATAFRAME SINXELO CO NOME, SIMBOLO E RANGO EN CMC DE DOGECOIN E BITCOIN XUNTOS"
   ]
  },
  {
   "cell_type": "code",
   "execution_count": null,
   "id": "396707d2",
   "metadata": {},
   "outputs": [],
   "source": []
  },
  {
   "cell_type": "markdown",
   "id": "f364b921",
   "metadata": {},
   "source": [
    "## EX 2"
   ]
  },
  {
   "cell_type": "code",
   "execution_count": null,
   "id": "553a4ff9",
   "metadata": {},
   "outputs": [],
   "source": [
    "#Dungeons and Dragons - páxina con información sobre o xogo de rol\n",
    "#https://www.dnd5eapi.co/docs/"
   ]
  },
  {
   "cell_type": "code",
   "execution_count": null,
   "id": "6b2146ba-3a2d-45be-9845-674bdb59fd63",
   "metadata": {},
   "outputs": [],
   "source": [
    "#INDICES DOS ATRIBUTOS QUE PODEN TER AS PERSONAXES"
   ]
  },
  {
   "cell_type": "code",
   "execution_count": null,
   "id": "cee035c2",
   "metadata": {},
   "outputs": [],
   "source": []
  },
  {
   "cell_type": "code",
   "execution_count": null,
   "id": "6be40b87-3cae-42bb-adc0-606735aa1441",
   "metadata": {},
   "outputs": [],
   "source": [
    "#SABENDO OS INDICES, NOME E DESCRIPCION DOS ATRIBUTOS"
   ]
  },
  {
   "cell_type": "code",
   "execution_count": null,
   "id": "eb287efc",
   "metadata": {},
   "outputs": [],
   "source": []
  },
  {
   "cell_type": "code",
   "execution_count": null,
   "id": "a2d76265-62d1-4bd1-8ac9-3c0bcf05d928",
   "metadata": {},
   "outputs": [],
   "source": [
    "#COMPROBA OS HEADERS E O SERVIDOR DA API"
   ]
  },
  {
   "cell_type": "code",
   "execution_count": null,
   "id": "be6e793f",
   "metadata": {},
   "outputs": [],
   "source": []
  },
  {
   "cell_type": "code",
   "execution_count": null,
   "id": "7f84b8ed-675f-4454-bd19-8be008b874da",
   "metadata": {},
   "outputs": [],
   "source": [
    "#ENTRE CANTAS PROFICIENCIES PODEN ELIXIR AS PERSOAXES"
   ]
  },
  {
   "cell_type": "code",
   "execution_count": null,
   "id": "0811a0ac",
   "metadata": {},
   "outputs": [],
   "source": []
  },
  {
   "cell_type": "code",
   "execution_count": null,
   "id": "ce918370-c182-47d1-8dae-7e00e64d4b40",
   "metadata": {},
   "outputs": [],
   "source": [
    "#QUE CLASES PODEN UTILIZAR A PROFICIENCY 'light-armor'"
   ]
  },
  {
   "cell_type": "code",
   "execution_count": null,
   "id": "eaba299a-8674-4277-8d3e-8b5881013297",
   "metadata": {},
   "outputs": [],
   "source": []
  }
 ],
 "metadata": {
  "kernelspec": {
   "display_name": "Python 3 (ipykernel)",
   "language": "python",
   "name": "python3"
  },
  "language_info": {
   "codemirror_mode": {
    "name": "ipython",
    "version": 3
   },
   "file_extension": ".py",
   "mimetype": "text/x-python",
   "name": "python",
   "nbconvert_exporter": "python",
   "pygments_lexer": "ipython3",
   "version": "3.8.12"
  }
 },
 "nbformat": 4,
 "nbformat_minor": 5
}
