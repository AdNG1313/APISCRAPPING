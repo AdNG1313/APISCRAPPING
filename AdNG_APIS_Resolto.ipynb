{
 "cells": [
  {
   "cell_type": "markdown",
   "id": "bb002abd-6634-42c9-84d1-6ae82a54dd20",
   "metadata": {},
   "source": [
    "### Alejandro de Nicolás Gómez"
   ]
  },
  {
   "cell_type": "markdown",
   "id": "a9233f29",
   "metadata": {},
   "source": [
    "## IMPORTS"
   ]
  },
  {
   "cell_type": "code",
   "execution_count": 1,
   "id": "b2f78b12-33b0-413f-ab8e-f4a5f1d5cf8c",
   "metadata": {},
   "outputs": [],
   "source": [
    "import requests\n",
    "import pandas as pd\n",
    "from bs4 import BeautifulSoup"
   ]
  },
  {
   "cell_type": "markdown",
   "id": "69d826c5",
   "metadata": {},
   "source": [
    "## EX 1"
   ]
  },
  {
   "cell_type": "code",
   "execution_count": 14,
   "id": "a9599972",
   "metadata": {},
   "outputs": [],
   "source": [
    "#COINMARKETCAP - páxina de información sobre criptomonedas\n",
    "#https://coinmarketcap.com/api/documentation/v1/#operation/getV1CryptocurrencyMap"
   ]
  },
  {
   "cell_type": "code",
   "execution_count": 31,
   "id": "57fb3dda",
   "metadata": {},
   "outputs": [],
   "source": [
    "url1 = 'https://pro-api.coinmarketcap.com/v1/cryptocurrency/listings/latest'\n",
    "parameters1 = {'start':'1','limit':'100','convert':'USD'}\n",
    "headers1 = {'X-CMC_PRO_API_KEY': '417b1307-1fea-4f07-9de3-924cc3e0eb49'}\n",
    "response1 = requests.get(url1, params=parameters1, headers=headers1)"
   ]
  },
  {
   "cell_type": "code",
   "execution_count": 101,
   "id": "510e05e6",
   "metadata": {},
   "outputs": [],
   "source": [
    "#PREZO DAS PRIMEIRAS 10 CRIPTODIVISAS"
   ]
  },
  {
   "cell_type": "code",
   "execution_count": 123,
   "id": "7fe251f3",
   "metadata": {
    "scrolled": true
   },
   "outputs": [
    {
     "name": "stdout",
     "output_type": "stream",
     "text": [
      "Bitcoin - 42148.05010635906 $\n",
      "Ethereum - 3213.4519331904576 $\n",
      "BNB - 475.6937341315731 $\n",
      "Tether - 1.0002313228206607 $\n",
      "Cardano - 1.5409793697686998 $\n",
      "USD Coin - 0.9995983757058111 $\n",
      "Solana - 139.2682076890182 $\n",
      "XRP - 0.7622753658585572 $\n",
      "Terra - 78.66987761309971 $\n",
      "Polkadot - 25.69611814851707 $\n",
      "Dogecoin - 0.17136244340406315 $\n"
     ]
    }
   ],
   "source": [
    "for i in range(0,11):\n",
    "    print (response1.json()['data'][i]['name'],\n",
    "           \"-\",\n",
    "           response1.json()['data'][i]['quote']['USD']['price'],\n",
    "           \"$\")"
   ]
  },
  {
   "cell_type": "code",
   "execution_count": 108,
   "id": "7565ae70",
   "metadata": {},
   "outputs": [],
   "source": [
    "url2 = 'https://pro-api.coinmarketcap.com/v1/cryptocurrency/listings/latest'\n",
    "parameters2 = {'start':'1','limit':'100','convert':'EUR'}\n",
    "headers2 = {'X-CMC_PRO_API_KEY': '417b1307-1fea-4f07-9de3-924cc3e0eb49'}\n",
    "response2 = requests.get(url2, params=parameters2, headers=headers2)"
   ]
  },
  {
   "cell_type": "code",
   "execution_count": 109,
   "id": "dc39f776",
   "metadata": {},
   "outputs": [],
   "source": [
    "#PREZO ACTUAL EN EUROS E SIMBOLO DO DOGECOIN"
   ]
  },
  {
   "cell_type": "code",
   "execution_count": 120,
   "id": "7b39d2e7",
   "metadata": {},
   "outputs": [
    {
     "name": "stdout",
     "output_type": "stream",
     "text": [
      "DOGE - 0.15029068770869006 €\n"
     ]
    }
   ],
   "source": [
    "for i in range(0,len(response2.json()['data'])):\n",
    "    if response2.json()['data'][i]['name'] == 'Dogecoin':\n",
    "        print(response2.json()['data'][i]['symbol'],\n",
    "              \"-\", \n",
    "              response2.json()['data'][i]['quote']['EUR']['price'],\n",
    "              \"€\")"
   ]
  },
  {
   "cell_type": "code",
   "execution_count": 64,
   "id": "a9a346ce-2503-4beb-8e46-4b933c83f452",
   "metadata": {},
   "outputs": [],
   "source": [
    "#LOGO (EN IMAXE) E PAXINA DO DOGECOIN E BITCOIN (BTC) UTILIZANDO OS SEU SIMBOLOS PARA O REQUEST"
   ]
  },
  {
   "cell_type": "code",
   "execution_count": 6,
   "id": "00d19347",
   "metadata": {},
   "outputs": [],
   "source": [
    "url3 = 'https://pro-api.coinmarketcap.com/v1/cryptocurrency/info'\n",
    "parameters3 = {'symbol':'DOGE,BTC'}\n",
    "headers3 = {'X-CMC_PRO_API_KEY': '417b1307-1fea-4f07-9de3-924cc3e0eb49'}\n",
    "response3 = requests.get(url3, params=parameters3, headers=headers3)"
   ]
  },
  {
   "cell_type": "code",
   "execution_count": 128,
   "id": "61082e6f-95f3-49cc-afad-a564ca5eb4d8",
   "metadata": {},
   "outputs": [],
   "source": [
    "from IPython import display"
   ]
  },
  {
   "cell_type": "code",
   "execution_count": 129,
   "id": "8c141760-9b94-4cb8-94d9-9cac90a7921e",
   "metadata": {
    "tags": []
   },
   "outputs": [
    {
     "name": "stdout",
     "output_type": "stream",
     "text": [
      "https://bitcoin.org/\n"
     ]
    },
    {
     "data": {
      "image/png": "[encoded data removed]",
      "text/plain": [
       "<IPython.core.display.Image object>"
      ]
     },
     "execution_count": 129,
     "metadata": {},
     "output_type": "execute_result"
    }
   ],
   "source": [
    "print (response3.json()['data']['BTC']['urls']['website'][0])\n",
    "display.Image(response3.json()['data']['BTC']['logo'])"
   ]
  },
  {
   "cell_type": "code",
   "execution_count": 131,
   "id": "c1b0b50f-ff63-48e2-8b9e-8151fce39f3e",
   "metadata": {},
   "outputs": [
    {
     "name": "stdout",
     "output_type": "stream",
     "text": [
      "http://dogecoin.com/\n"
     ]
    },
    {
     "data": {
      "image/png": "[encoded data removed]",
      "text/plain": [
       "<IPython.core.display.Image object>"
      ]
     },
     "execution_count": 131,
     "metadata": {},
     "output_type": "execute_result"
    }
   ],
   "source": [
    "print (response3.json()['data']['DOGE']['urls']['website'][0])\n",
    "display.Image(response3.json()['data']['DOGE']['logo'])"
   ]
  },
  {
   "cell_type": "code",
   "execution_count": null,
   "id": "01a0e416-cb55-4928-bf0b-9f5e55786858",
   "metadata": {},
   "outputs": [],
   "source": [
    "#NOVO REQUEST PARA VER OS FIAT ORDENADOS POR ORDE ALFABETICA"
   ]
  },
  {
   "cell_type": "code",
   "execution_count": 26,
   "id": "8304b641",
   "metadata": {},
   "outputs": [],
   "source": [
    "url4 = 'https://pro-api.coinmarketcap.com/v1/fiat/map'\n",
    "parameters4 = {'sort':'name'}\n",
    "headers4 = {'X-CMC_PRO_API_KEY': '417b1307-1fea-4f07-9de3-924cc3e0eb49'}\n",
    "response4 = requests.get(url4, headers=headers4, params=parameters4)"
   ]
  },
  {
   "cell_type": "code",
   "execution_count": 29,
   "id": "529f2bf5",
   "metadata": {},
   "outputs": [
    {
     "name": "stdout",
     "output_type": "stream",
     "text": [
      "Albanian Lek ( ALL )\n",
      "Algerian Dinar ( DZD )\n",
      "Argentine Peso ( ARS )\n",
      "Armenian Dram ( AMD )\n",
      "Australian Dollar ( AUD )\n",
      "Azerbaijani Manat ( AZN )\n",
      "Bahraini Dinar ( BHD )\n",
      "Bangladeshi Taka ( BDT )\n",
      "Belarusian Ruble ( BYN )\n",
      "Bermudan Dollar ( BMD )\n",
      "Bolivian Boliviano ( BOB )\n",
      "Bosnia-Herzegovina Convertible Mark ( BAM )\n",
      "Brazilian Real ( BRL )\n",
      "Bulgarian Lev ( BGN )\n",
      "Cambodian Riel ( KHR )\n",
      "Canadian Dollar ( CAD )\n",
      "Chilean Peso ( CLP )\n",
      "Chinese Yuan ( CNY )\n",
      "Colombian Peso ( COP )\n",
      "Costa Rican Colón ( CRC )\n",
      "Croatian Kuna ( HRK )\n",
      "Cuban Peso ( CUP )\n",
      "Czech Koruna ( CZK )\n",
      "Danish Krone ( DKK )\n",
      "Dominican Peso ( DOP )\n",
      "Egyptian Pound ( EGP )\n",
      "Euro ( EUR )\n",
      "Georgian Lari ( GEL )\n",
      "Ghanaian Cedi ( GHS )\n",
      "Guatemalan Quetzal ( GTQ )\n",
      "Honduran Lempira ( HNL )\n",
      "Hong Kong Dollar ( HKD )\n",
      "Hungarian Forint ( HUF )\n",
      "Icelandic Króna ( ISK )\n",
      "Indian Rupee ( INR )\n",
      "Indonesian Rupiah ( IDR )\n",
      "Iranian Rial ( IRR )\n",
      "Iraqi Dinar ( IQD )\n",
      "Israeli New Shekel ( ILS )\n",
      "Jamaican Dollar ( JMD )\n",
      "Japanese Yen ( JPY )\n",
      "Jordanian Dinar ( JOD )\n",
      "Kazakhstani Tenge ( KZT )\n",
      "Kenyan Shilling ( KES )\n",
      "Kuwaiti Dinar ( KWD )\n",
      "Kyrgystani Som ( KGS )\n",
      "Lebanese Pound ( LBP )\n",
      "Macedonian Denar ( MKD )\n",
      "Malaysian Ringgit ( MYR )\n",
      "Mauritian Rupee ( MUR )\n",
      "Mexican Peso ( MXN )\n",
      "Moldovan Leu ( MDL )\n",
      "Mongolian Tugrik ( MNT )\n",
      "Moroccan Dirham ( MAD )\n",
      "Myanma Kyat ( MMK )\n",
      "Namibian Dollar ( NAD )\n",
      "Nepalese Rupee ( NPR )\n",
      "New Taiwan Dollar ( TWD )\n",
      "New Zealand Dollar ( NZD )\n",
      "Nicaraguan Córdoba ( NIO )\n",
      "Nigerian Naira ( NGN )\n",
      "Norwegian Krone ( NOK )\n",
      "Omani Rial ( OMR )\n",
      "Pakistani Rupee ( PKR )\n",
      "Panamanian Balboa ( PAB )\n",
      "Peruvian Sol ( PEN )\n",
      "Philippine Peso ( PHP )\n",
      "Polish Złoty ( PLN )\n",
      "Pound Sterling ( GBP )\n",
      "Qatari Rial ( QAR )\n",
      "Romanian Leu ( RON )\n",
      "Russian Ruble ( RUB )\n",
      "Saudi Riyal ( SAR )\n",
      "Serbian Dinar ( RSD )\n",
      "Singapore Dollar ( SGD )\n",
      "South African Rand ( ZAR )\n",
      "South Korean Won ( KRW )\n",
      "South Sudanese Pound ( SSP )\n",
      "Sovereign Bolivar ( VES )\n",
      "Sri Lankan Rupee ( LKR )\n",
      "Swedish Krona ( SEK )\n",
      "Swiss Franc ( CHF )\n",
      "Thai Baht ( THB )\n",
      "Trinidad and Tobago Dollar ( TTD )\n",
      "Tunisian Dinar ( TND )\n",
      "Turkish Lira ( TRY )\n",
      "Ugandan Shilling ( UGX )\n",
      "Ukrainian Hryvnia ( UAH )\n",
      "United Arab Emirates Dirham ( AED )\n",
      "United States Dollar ( USD )\n",
      "Uruguayan Peso ( UYU )\n",
      "Uzbekistan Som ( UZS )\n",
      "Vietnamese Dong ( VND )\n"
     ]
    }
   ],
   "source": [
    "for i in range(0,len(response4.json()['data'])):\n",
    "    print(response4.json()['data'][i]['name'],\"(\", response4.json()['data'][i]['symbol'],\")\")"
   ]
  },
  {
   "cell_type": "code",
   "execution_count": 65,
   "id": "2d4bca4c-0ff8-4d23-b746-eb385fbeb1d2",
   "metadata": {},
   "outputs": [],
   "source": [
    "#DATAFRAME SINXELO CO NOME, SIMBOLO E RANGO EN CMC DE DOGECOIN E BITCOIN XUNTOS"
   ]
  },
  {
   "cell_type": "code",
   "execution_count": 63,
   "id": "24257911",
   "metadata": {},
   "outputs": [
    {
     "name": "stdout",
     "output_type": "stream",
     "text": [
      "{'Name': 'Bitcoin', 'Symbol': 'BTC', 'Rank': 1}\n",
      "{'Name': 'Dogecoin', 'Symbol': 'DOGE', 'Rank': 11}\n"
     ]
    },
    {
     "data": {
      "text/html": [
       "<div>\n",
       "<style scoped>\n",
       "    .dataframe tbody tr th:only-of-type {\n",
       "        vertical-align: middle;\n",
       "    }\n",
       "\n",
       "    .dataframe tbody tr th {\n",
       "        vertical-align: top;\n",
       "    }\n",
       "\n",
       "    .dataframe thead th {\n",
       "        text-align: right;\n",
       "    }\n",
       "</style>\n",
       "<table border=\"1\" class=\"dataframe\">\n",
       "  <thead>\n",
       "    <tr style=\"text-align: right;\">\n",
       "      <th></th>\n",
       "      <th>Name</th>\n",
       "      <th>Symbol</th>\n",
       "      <th>Rank</th>\n",
       "    </tr>\n",
       "  </thead>\n",
       "  <tbody>\n",
       "    <tr>\n",
       "      <th>0</th>\n",
       "      <td>Bitcoin</td>\n",
       "      <td>BTC</td>\n",
       "      <td>1</td>\n",
       "    </tr>\n",
       "    <tr>\n",
       "      <th>1</th>\n",
       "      <td>Dogecoin</td>\n",
       "      <td>DOGE</td>\n",
       "      <td>11</td>\n",
       "    </tr>\n",
       "  </tbody>\n",
       "</table>\n",
       "</div>"
      ],
      "text/plain": [
       "       Name Symbol  Rank\n",
       "0   Bitcoin    BTC     1\n",
       "1  Dogecoin   DOGE    11"
      ]
     },
     "execution_count": 63,
     "metadata": {},
     "output_type": "execute_result"
    }
   ],
   "source": [
    "data1 = {'Name':response1.json()['data'][0]['name'],\n",
    "         'Symbol':response1.json()['data'][0]['symbol'],\n",
    "         'Rank':response1.json()['data'][0]['cmc_rank']}\n",
    "data2 = {'Name':response1.json()['data'][10]['name'],\n",
    "         'Symbol':response1.json()['data'][10]['symbol'],\n",
    "         'Rank':response1.json()['data'][10]['cmc_rank']}\n",
    "\n",
    "df1 = pd.DataFrame(data1,columns=['Name','Symbol','Rank'],index=[0])\n",
    "df2 = pd.DataFrame(data2,columns=['Name','Symbol','Rank'],index=[0])\n",
    "\n",
    "df_concat = pd.concat([df1, df2], ignore_index=True)\n",
    "df_concat"
   ]
  },
  {
   "cell_type": "markdown",
   "id": "f364b921",
   "metadata": {},
   "source": [
    "## EX 2"
   ]
  },
  {
   "cell_type": "code",
   "execution_count": null,
   "id": "553a4ff9",
   "metadata": {},
   "outputs": [],
   "source": [
    "#Dungeons and Dragons - páxina con información sobre o xogo de rol\n",
    "#https://www.dnd5eapi.co/docs/"
   ]
  },
  {
   "cell_type": "code",
   "execution_count": null,
   "id": "6b2146ba-3a2d-45be-9845-674bdb59fd63",
   "metadata": {},
   "outputs": [],
   "source": [
    "#INDICES DOS ATRIBUTOS QUE PODEN TER AS PERSONAXES"
   ]
  },
  {
   "cell_type": "code",
   "execution_count": 92,
   "id": "9a1f3ab5-42e0-4b42-9e69-8782f3c5bf2a",
   "metadata": {},
   "outputs": [
    {
     "name": "stdout",
     "output_type": "stream",
     "text": [
      "cha\n",
      "con\n",
      "dex\n",
      "int\n",
      "str\n",
      "wis\n"
     ]
    }
   ],
   "source": [
    "url6='https://www.dnd5eapi.co/api/ability-scores/'\n",
    "response6 = requests.get(url6)\n",
    "for i in response6.json()['results']:\n",
    "    print (i['index'])"
   ]
  },
  {
   "cell_type": "code",
   "execution_count": null,
   "id": "6be40b87-3cae-42bb-adc0-606735aa1441",
   "metadata": {},
   "outputs": [],
   "source": [
    "#SABENDO OS INDICES, NOME E DESCRIPCION DOS ATRIBUTOS"
   ]
  },
  {
   "cell_type": "code",
   "execution_count": 105,
   "id": "39a5c296-4343-41ab-948b-6d4008ad9699",
   "metadata": {},
   "outputs": [
    {
     "name": "stdout",
     "output_type": "stream",
     "text": [
      "Charisma ( cha ): Charisma measures your ability to interact effectively with others. It includes such factors as confidence and eloquence, and it can represent a charming or commanding personality.\n",
      "\n",
      "Constitution ( con ): Constitution measures health, stamina, and vital force.\n",
      "\n",
      "Dexterity ( dex ): Dexterity measures agility, reflexes, and balance.\n",
      "\n",
      "Intelligence ( int ): Intelligence measures mental acuity, accuracy of recall, and the ability to reason.\n",
      "\n",
      "Strength ( str ): Strength measures bodily power, athletic training, and the extent to which you can exert raw physical force.\n",
      "\n",
      "Wisdom ( wis ): Wisdom reflects how attuned you are to the world around you and represents perceptiveness and intuition.\n",
      "\n"
     ]
    }
   ],
   "source": [
    "for i in response6.json()['results']:\n",
    "    url7='https://www.dnd5eapi.co/api/ability-scores/'+i['index']\n",
    "    response7 = requests.get(url7)\n",
    "    print(response7.json()['full_name'],\"(\", response7.json()['index'],\"):\", response7.json()['desc'][0])\n",
    "    print(\"\")"
   ]
  },
  {
   "cell_type": "code",
   "execution_count": null,
   "id": "a2d76265-62d1-4bd1-8ac9-3c0bcf05d928",
   "metadata": {},
   "outputs": [],
   "source": [
    "#COMPROBA OS HEADERS E O SERVIDOR DA API"
   ]
  },
  {
   "cell_type": "code",
   "execution_count": 106,
   "id": "fcdb23a5-91c4-4966-8aae-0ad1fb45b6a0",
   "metadata": {},
   "outputs": [
    {
     "data": {
      "text/plain": [
       "{'Server': 'Cowboy', 'Connection': 'keep-alive', 'X-Powered-By': 'Express', 'Access-Control-Allow-Origin': '*', 'Content-Type': 'application/json; charset=utf-8', 'Content-Length': '389', 'Etag': 'W/\"185-L9GLOAFeR6+LRbDFqK5SmulaYl0\"', 'Date': 'Tue, 18 Jan 2022 12:02:05 GMT', 'Via': '1.1 vegur'}"
      ]
     },
     "execution_count": 106,
     "metadata": {},
     "output_type": "execute_result"
    }
   ],
   "source": [
    "response6.headers"
   ]
  },
  {
   "cell_type": "code",
   "execution_count": 110,
   "id": "a761c5db-26b0-47ae-b752-58accbbec871",
   "metadata": {},
   "outputs": [
    {
     "data": {
      "text/plain": [
       "'Cowboy'"
      ]
     },
     "execution_count": 110,
     "metadata": {},
     "output_type": "execute_result"
    }
   ],
   "source": [
    "response6.headers['Server']"
   ]
  },
  {
   "cell_type": "code",
   "execution_count": null,
   "id": "7f84b8ed-675f-4454-bd19-8be008b874da",
   "metadata": {},
   "outputs": [],
   "source": [
    "#ENTRE CANTAS PROFICIENCIES PODEN ELIXIR AS PERSOAXES"
   ]
  },
  {
   "cell_type": "code",
   "execution_count": 135,
   "id": "6a97ab43-8050-4178-8f1a-1d5e7a5e54ea",
   "metadata": {},
   "outputs": [
    {
     "data": {
      "text/plain": [
       "117"
      ]
     },
     "execution_count": 135,
     "metadata": {},
     "output_type": "execute_result"
    }
   ],
   "source": [
    "url9 = 'https://www.dnd5eapi.co/api/proficiencies/'\n",
    "response9 = requests.get(url9)\n",
    "response9.json()['count']"
   ]
  },
  {
   "cell_type": "code",
   "execution_count": null,
   "id": "ce918370-c182-47d1-8dae-7e00e64d4b40",
   "metadata": {},
   "outputs": [],
   "source": [
    "#QUE CLASES PODEN UTILIZAR A PROFICIENCY 'light-armor'"
   ]
  },
  {
   "cell_type": "code",
   "execution_count": 153,
   "id": "2e4d0619-ec44-476c-a6fb-9b9babaff162",
   "metadata": {},
   "outputs": [
    {
     "name": "stdout",
     "output_type": "stream",
     "text": [
      "Barbarian\n",
      "Bard\n",
      "Cleric\n",
      "Druid\n",
      "Ranger\n",
      "Rogue\n",
      "Warlock\n"
     ]
    }
   ],
   "source": [
    "url10 = 'https://www.dnd5eapi.co/api/proficiencies/light-armor'\n",
    "response10 = requests.get(url10)\n",
    "for i in range (0, len(response10.json())):\n",
    "    print(response10.json()['classes'][i]['name'])"
   ]
  },
  {
   "cell_type": "code",
   "execution_count": null,
   "id": "eaba299a-8674-4277-8d3e-8b5881013297",
   "metadata": {},
   "outputs": [],
   "source": []
  }
 ],
 "metadata": {
  "kernelspec": {
   "display_name": "Python 3 (ipykernel)",
   "language": "python",
   "name": "python3"
  },
  "language_info": {
   "codemirror_mode": {
    "name": "ipython",
    "version": 3
   },
   "file_extension": ".py",
   "mimetype": "text/x-python",
   "name": "python",
   "nbconvert_exporter": "python",
   "pygments_lexer": "ipython3",
   "version": "3.8.12"
  }
 },
 "nbformat": 4,
 "nbformat_minor": 5
}
