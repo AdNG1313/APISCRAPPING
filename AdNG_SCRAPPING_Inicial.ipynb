{
 "cells": [
  {
   "cell_type": "markdown",
   "id": "bb002abd-6634-42c9-84d1-6ae82a54dd20",
   "metadata": {},
   "source": [
    "### Alejandro de Nicolás Gómez"
   ]
  },
  {
   "cell_type": "markdown",
   "id": "a9233f29",
   "metadata": {},
   "source": [
    "## IMPORTS"
   ]
  },
  {
   "cell_type": "code",
   "execution_count": 5,
   "id": "b2f78b12-33b0-413f-ab8e-f4a5f1d5cf8c",
   "metadata": {},
   "outputs": [],
   "source": [
    "import requests\n",
    "import pandas as pd\n",
    "from bs4 import BeautifulSoup"
   ]
  },
  {
   "cell_type": "markdown",
   "id": "69d826c5",
   "metadata": {},
   "source": [
    "## EX 1"
   ]
  },
  {
   "cell_type": "code",
   "execution_count": 6,
   "id": "97ef70f1-34d7-430c-bcd4-207157d3375a",
   "metadata": {},
   "outputs": [],
   "source": [
    "#PAXINA DO FERNANDO WIRTZ\n",
    "#https://www.fernandowirtz.com/publicar.php?tag=TODAS%20as%20NOVAS"
   ]
  },
  {
   "cell_type": "code",
   "execution_count": null,
   "id": "a7064982",
   "metadata": {},
   "outputs": [],
   "source": [
    "#MOSTRAR A PAXINA CO PRETTIFY"
   ]
  },
  {
   "cell_type": "code",
   "execution_count": null,
   "id": "3d5f0c5c",
   "metadata": {},
   "outputs": [],
   "source": []
  },
  {
   "cell_type": "code",
   "execution_count": 8,
   "id": "3d294320-4fe6-44a9-ba1b-5b3d7a272e55",
   "metadata": {},
   "outputs": [],
   "source": [
    "#TITULO DA PAXINA"
   ]
  },
  {
   "cell_type": "code",
   "execution_count": null,
   "id": "748b5988",
   "metadata": {},
   "outputs": [],
   "source": []
  },
  {
   "cell_type": "code",
   "execution_count": 10,
   "id": "fd96af9b-f25c-4af5-8794-e438bcc97daf",
   "metadata": {},
   "outputs": [],
   "source": [
    "#LISTA AS NOVAS DA PAXINA"
   ]
  },
  {
   "cell_type": "code",
   "execution_count": null,
   "id": "37f47fc8",
   "metadata": {},
   "outputs": [],
   "source": []
  },
  {
   "cell_type": "code",
   "execution_count": 14,
   "id": "f611a5f6-0f5e-4835-a193-5c6417ca122f",
   "metadata": {},
   "outputs": [],
   "source": [
    "#GARDA AS TITORÍAS QUE APARECEN NA TABOA NUNHA LISTA\n",
    "#https://www.fernandowirtz.com/wv_consulta_titoriaslist.php"
   ]
  },
  {
   "cell_type": "code",
   "execution_count": null,
   "id": "0d03b434",
   "metadata": {},
   "outputs": [],
   "source": []
  },
  {
   "cell_type": "code",
   "execution_count": null,
   "id": "ef524317-3dd0-4b12-bb7b-1a8f4b7705bb",
   "metadata": {},
   "outputs": [],
   "source": [
    "#CREA UN DATAFRAME COA LISTA CREADA NO ANTERIOR EXERCICIO. UTILIZAO PARA MOSTRAR SÓ AS TITORÍAS DO MARTES"
   ]
  },
  {
   "cell_type": "code",
   "execution_count": null,
   "id": "bd262ff9",
   "metadata": {},
   "outputs": [],
   "source": []
  },
  {
   "cell_type": "markdown",
   "id": "b7da572a-5fe9-4cb8-9737-1f1d37f49c5c",
   "metadata": {},
   "source": [
    "## EX 2"
   ]
  },
  {
   "cell_type": "code",
   "execution_count": 168,
   "id": "ad72625f-8056-4d59-ae06-74f65a7e2a5e",
   "metadata": {},
   "outputs": [],
   "source": [
    "#PAXINA DE REDDIT\n",
    "#https://www.reddit.com/"
   ]
  },
  {
   "cell_type": "code",
   "execution_count": 169,
   "id": "7396ce4c-debb-427c-a5ae-72cc2caa407a",
   "metadata": {},
   "outputs": [],
   "source": [
    "#MOSTRA A PARTE DE CSS (style) QUE TEN A PÁXINA NA CABECEIRA, UTILIZANDO O PRETTIFY"
   ]
  },
  {
   "cell_type": "code",
   "execution_count": null,
   "id": "09d7770d",
   "metadata": {},
   "outputs": [],
   "source": []
  },
  {
   "cell_type": "code",
   "execution_count": 171,
   "id": "a53d73f3-1545-4493-95fb-eb8d0a1f27a7",
   "metadata": {},
   "outputs": [],
   "source": [
    "#MOSTRA AS 10 COMUNIDADES MÁIS POPULARES NO MOMENTO\n",
    "#https://www.reddit.com/subreddits/leaderboard/\n",
    "#AINDA QUE NON O NECESITAMOS NESTA PÁXINA, PROBA A UTILIZAR UN USER AGENT QUE DIGA QUE UTILIZAS UN NAVEGADOR\n",
    "#(Ex: 'Mozilla/5.0 (X11; Ubuntu; Linux x86_64; rv:94.0) Gecko/20100101 Firefox/94.0')"
   ]
  },
  {
   "cell_type": "code",
   "execution_count": null,
   "id": "74521ea1",
   "metadata": {},
   "outputs": [],
   "source": []
  },
  {
   "cell_type": "code",
   "execution_count": 165,
   "id": "4f34840d-6e5f-49df-b610-dcc262d1f1f3",
   "metadata": {},
   "outputs": [],
   "source": [
    "#MOSTRA ALGÚNS DOS FIOS MAIS VOTADOS NESTE ANO EN R/TODAYILEARNED\n",
    "#https://www.reddit.com/r/todayilearned/"
   ]
  },
  {
   "cell_type": "code",
   "execution_count": null,
   "id": "59967aa9",
   "metadata": {},
   "outputs": [],
   "source": []
  },
  {
   "cell_type": "code",
   "execution_count": null,
   "id": "0a08d359-9061-4166-bb59-ebae429d5c1c",
   "metadata": {},
   "outputs": [],
   "source": [
    "#MOSTRA DE QUE TRATA ESTA COMUNIDADE DE REDDIT (Acerca de la comunidad)\n",
    "#https://www.reddit.com/r/explainlikeimfive/"
   ]
  },
  {
   "cell_type": "code",
   "execution_count": null,
   "id": "f9f47a1c",
   "metadata": {},
   "outputs": [],
   "source": []
  },
  {
   "cell_type": "code",
   "execution_count": null,
   "id": "ef380ae0-eb27-4804-a1f1-575a0f956dc4",
   "metadata": {},
   "outputs": [],
   "source": [
    "#NESTE FIO DE DATAISBEAUTIFUL, MOSTRA O ENLACE E O TEXTO ALTERNATIVO DA IMAXE\n",
    "#https://www.reddit.com/r/dataisbeautiful/comments/i9ljw9/i_analysed_70_years_of_baby_names_in_the_us_to/"
   ]
  },
  {
   "cell_type": "code",
   "execution_count": null,
   "id": "6e9bf377-8481-4f71-b1ca-3506ff9c4b45",
   "metadata": {},
   "outputs": [],
   "source": []
  }
 ],
 "metadata": {
  "kernelspec": {
   "display_name": "Python 3 (ipykernel)",
   "language": "python",
   "name": "python3"
  },
  "language_info": {
   "codemirror_mode": {
    "name": "ipython",
    "version": 3
   },
   "file_extension": ".py",
   "mimetype": "text/x-python",
   "name": "python",
   "nbconvert_exporter": "python",
   "pygments_lexer": "ipython3",
   "version": "3.8.12"
  }
 },
 "nbformat": 4,
 "nbformat_minor": 5
}
