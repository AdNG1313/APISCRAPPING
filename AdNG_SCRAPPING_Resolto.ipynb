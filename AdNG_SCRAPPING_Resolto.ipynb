{
 "cells": [
  {
   "cell_type": "markdown",
   "id": "bb002abd-6634-42c9-84d1-6ae82a54dd20",
   "metadata": {},
   "source": [
    "### Alejandro de Nicolás Gómez"
   ]
  },
  {
   "cell_type": "markdown",
   "id": "a9233f29",
   "metadata": {},
   "source": [
    "## IMPORTS"
   ]
  },
  {
   "cell_type": "code",
   "execution_count": 2,
   "id": "b2f78b12-33b0-413f-ab8e-f4a5f1d5cf8c",
   "metadata": {},
   "outputs": [],
   "source": [
    "import requests\n",
    "import pandas as pd\n",
    "from bs4 import BeautifulSoup"
   ]
  },
  {
   "cell_type": "markdown",
   "id": "69d826c5",
   "metadata": {},
   "source": [
    "## EX 1"
   ]
  },
  {
   "cell_type": "code",
   "execution_count": 3,
   "id": "97ef70f1-34d7-430c-bcd4-207157d3375a",
   "metadata": {},
   "outputs": [],
   "source": [
    "#PAXINA DO FERNANDO WIRTZ\n",
    "#https://www.fernandowirtz.com/publicar.php?tag=TODAS%20as%20NOVAS"
   ]
  },
  {
   "cell_type": "code",
   "execution_count": null,
   "id": "6fb0c925",
   "metadata": {},
   "outputs": [],
   "source": [
    "#MOSTRAR A PAXINA CO PRETTIFY"
   ]
  },
  {
   "cell_type": "code",
   "execution_count": 4,
   "id": "eaba299a-8674-4277-8d3e-8b5881013297",
   "metadata": {
    "scrolled": true,
    "tags": []
   },
   "outputs": [],
   "source": [
    "url = 'https://www.fernandowirtz.com/publicar.php?tag=TODAS%20as%20NOVAS'\n",
    "paxina = requests.get(url)\n",
    "soup = BeautifulSoup(paxina.content, 'html.parser')\n",
    "#print(soup.prettify())"
   ]
  },
  {
   "cell_type": "code",
   "execution_count": 8,
   "id": "3d294320-4fe6-44a9-ba1b-5b3d7a272e55",
   "metadata": {},
   "outputs": [],
   "source": [
    "#TITULO DA PAXINA"
   ]
  },
  {
   "cell_type": "code",
   "execution_count": 9,
   "id": "1c7ae7dd-a540-4b10-814f-6f67d5c62825",
   "metadata": {},
   "outputs": [
    {
     "data": {
      "text/plain": [
       "'IES FernandoWirtz'"
      ]
     },
     "execution_count": 9,
     "metadata": {},
     "output_type": "execute_result"
    }
   ],
   "source": [
    "soup.title.text"
   ]
  },
  {
   "cell_type": "code",
   "execution_count": 10,
   "id": "fd96af9b-f25c-4af5-8794-e438bcc97daf",
   "metadata": {},
   "outputs": [],
   "source": [
    "#LISTA AS NOVAS DA PAXINA"
   ]
  },
  {
   "cell_type": "code",
   "execution_count": 20,
   "id": "0379236c-ce93-4c2c-8ab1-377225c925de",
   "metadata": {},
   "outputs": [
    {
     "name": "stdout",
     "output_type": "stream",
     "text": [
      " Mediación Escolar \n",
      " Xefes de Departamento \n",
      " REGRESO ÁS AULAS TRAS AS VACACIÓNS DE NADAL DESTACADO\n",
      " FP Dual Altia Desenvolvemento de Aplicacións Web. Curso 2021-22 DESTACADO\n",
      " Carta Erasmus 2021-2027 DESTACADO\n",
      " Publicación do horario habitual para as entradas e saídas escalonadas no centro. DESTACADO\n",
      " Documentación protocolo COVID DESTACADO\n",
      " PROXECTO EDUCATIVO DESTACADO\n",
      " Instrucións para a petición de documentos ou solicitude de procedementos cando non se pode acudir persoalmente á Secretaría do centro . DESTACADO\n",
      " Aplicación da LOPD na conservacion de datos aportados na Secretaria do centro DESTACADO\n",
      " Normas de Organización e Funcionamento (NOF) e resumo normas de convivencia DESTACADO\n",
      " Guía Orientación 1º ESO e 2º ESO \n",
      " Documentos organizativos I \n",
      " Documentos organizativos II \n",
      " Resolución problemas no acceso á plataforma da FP a distancia \n",
      " Erasmus Policy Statement \n",
      " Equipo Directivo \n",
      " Consello Escolar \n",
      " Abalar Móbil e Espazo Abalar \n",
      " Calendario Exames 2ª Avaliación Ciclos Distancia \n",
      " Plantilla trinity \n",
      " Erasmus+ Abril/Xuño 2022 - Listaxe Provisional do profesorado seleccionado \n",
      " Erasmus+ Abril/Xuño 2022 - Listaxe Provisional do alumnado seleccionado \n",
      " Erasmus+ Abril/Xuño 2022 - Listaxe Definitivo do profesorado seleccionado \n",
      " Erasmus+ Abril/Xuño 2022 - Listaxe Definitiva do alumnado seleccionado \n",
      " Seis profesores italianos visitan o IES Fernando Wirtz \n",
      " Eleccións parciais ao CONSELLO ESCOLAR. Curso 21-22 \n",
      " Convocatoria 2021-2022 de Mobilidades Erasmus+ para o Profesorado \n",
      " Reunión informativa Mobilidades ERASMUS+ Abril/Xuño 2022 e Setembro/Decembro 2022 para facer a FCT no estranxeiro \n",
      " Trámite para a solicitude de TÍTULOS \n",
      " Calendario Escolar 2021-2022 \n",
      " Validacións Módulos FP. Curso 21-22 \n",
      " Presentación realizada da FP Dual DAWU \n",
      " Curso de Especialización en Inteligencia Artificial y Big Data \n",
      " Novo ciclo de FP Dual curso 21-22 \n",
      " Orientación BACHARELATO \n",
      " Axuda Webex \n",
      " Recursos Língua Galega \n",
      " Erasmus Abril/Xuño 2021 - Listaxe definitiva do alumnado seleccionado \n",
      " Erasmus+ Abril/Xuño 2021 - Listaxe Provisional do alumnado seleccionado \n",
      " Soportelingua: canle de recursos e apoio lingüístico para  o profesorado no uso do galego. \n",
      " Reunión informativa: MOBILIDADES ERASMUS+ 2021 \n",
      " Guía Orientación 3º e 4º ESO \n",
      " Orientación ENSINANZAS DE RÉXIME ESPECIAL FORZAS E CORPOS DE SEGURIDADE \n",
      " Orientación BACHARELATO E ACCESO UNIVERSIDADE \n",
      " Oferta Ciclos 20-21 \n",
      " Oferta Ciclos FP para o curso 21-22 \n",
      " Orientación FORMACIÓN PROFESIONAL \n",
      " Video titoriais Aula Virtual \n",
      " Convocatoria do programa ACOREUROPA XI \n",
      " Erasmus Abril/Xuño 2020 - Listaxe Definitiva do alumnado seleccionado \n",
      " Erasmus Abril/Xuño 2020 - Listaxe Provisional do alumnado seleccionado \n",
      " Reunión informativa: MOBILIDADES ERASMUS+ Marzo/Xuño 2020 \n",
      " Mobilidade Erasmus en Eidnhoven. \n",
      " Erasmus Sep/Dic 2019 - Listaxe definitiva do alumnado seleccionado \n",
      " Erasmus Sep/Dic 2019 - Listaxe provisional do alumnado seleccionado \n",
      " Reunión informativa: MOBILIDADES ERASMUS+ Setembro/Decembro 2019 \n",
      " Premios da Fundación Repsol de Emprendemento FP 2019 \n",
      " KA103-Listado definitivo de alumnos seleccionados \n",
      " KA103 Listado Provisional de Alumnos Seleccionados \n",
      " Convocatoria do programa ACOREUROPA VIII \n",
      " Experiencias Erasmus+ 2018 \n",
      " TECNOWOA - Páxina de Apuntes, Exercicios, etc do  Dpto. de Tecnoloxía \n",
      " Plan Proxecta. O mundo que queremos. \n",
      " Exposición de modelos de receptores sensoriais 3 ESO \n",
      " Alumnos de 4ESO participan en Móllate! \n",
      " MathType. Complemento Google Docs \n",
      " Freemind: Elaboración de mapas mentales [App Local] \n",
      " Clipgrab: Software de descarga y conversión de contenidos de YouTube [App Local] \n",
      " Xustificación faltas de asistencia alumnado \n",
      " Modelo de instancia \n",
      " OpenShot: Editor de Video [App Local] \n",
      " Trello: Organizador de Proxectos [OnLine] \n",
      " Real Decreto 732/1995 Dereitos e deberes dos alumnos \n",
      " BIBLIOWIRTZ - Guía de usuarios \n"
     ]
    }
   ],
   "source": [
    "listaNovas = soup.find_all('div', class_='list-group')\n",
    "for i in listaNovas:\n",
    "    botonNovas = i.find_all('button', class_='d-flex')\n",
    "    for j in botonNovas:\n",
    "        tituloNovas = j.find('span')\n",
    "        print(tituloNovas.text)"
   ]
  },
  {
   "cell_type": "code",
   "execution_count": 14,
   "id": "f611a5f6-0f5e-4835-a193-5c6417ca122f",
   "metadata": {},
   "outputs": [],
   "source": [
    "#GARDA AS TITORÍAS QUE APARECEN NA TABOA NUNHA LISTA\n",
    "#https://www.fernandowirtz.com/wv_consulta_titoriaslist.php"
   ]
  },
  {
   "cell_type": "code",
   "execution_count": 21,
   "id": "94bdea42-2b2e-4694-bf5d-fb886c24740f",
   "metadata": {},
   "outputs": [],
   "source": [
    "url = 'https://www.fernandowirtz.com/wv_consulta_titoriaslist.php'\n",
    "paxina = requests.get(url)\n",
    "soup = BeautifulSoup(paxina.content, 'html.parser')"
   ]
  },
  {
   "cell_type": "code",
   "execution_count": 59,
   "id": "ae18c4c4-4c14-4a5e-8f79-1b4c9809d586",
   "metadata": {},
   "outputs": [],
   "source": [
    "taboa = soup.find('table')\n",
    "\n",
    "lista_fil = []\n",
    "for fila in taboa.find_all('tr'):\n",
    "    lista_col = []\n",
    "    for columna in fila.find_all(['td','th']):\n",
    "        texto_limpo = columna.text.strip()\n",
    "        lista_col.append(texto_limpo)\n",
    "    lista_fil.append(lista_col)\n",
    "\n",
    "#for fila in lista_fil:\n",
    "#    print (fila)"
   ]
  },
  {
   "cell_type": "code",
   "execution_count": null,
   "id": "ef524317-3dd0-4b12-bb7b-1a8f4b7705bb",
   "metadata": {},
   "outputs": [],
   "source": [
    "#CREA UN DATAFRAME COA LISTA CREADA NO ANTERIOR EXERCICIO. UTILIZAO PARA MOSTRAR SÓ AS TITORÍAS DO MARTES"
   ]
  },
  {
   "cell_type": "code",
   "execution_count": 79,
   "id": "47818f94-6e76-4ee9-8596-82d95ad07230",
   "metadata": {},
   "outputs": [
    {
     "data": {
      "text/html": [
       "<div>\n",
       "<style scoped>\n",
       "    .dataframe tbody tr th:only-of-type {\n",
       "        vertical-align: middle;\n",
       "    }\n",
       "\n",
       "    .dataframe tbody tr th {\n",
       "        vertical-align: top;\n",
       "    }\n",
       "\n",
       "    .dataframe thead th {\n",
       "        text-align: right;\n",
       "    }\n",
       "</style>\n",
       "<table border=\"1\" class=\"dataframe\">\n",
       "  <thead>\n",
       "    <tr style=\"text-align: right;\">\n",
       "      <th></th>\n",
       "      <th>Profesor/a</th>\n",
       "      <th>Departamento</th>\n",
       "      <th>Titoría. Dia Semana</th>\n",
       "      <th>Titoría. Hora</th>\n",
       "      <th>Sustituto/a</th>\n",
       "    </tr>\n",
       "  </thead>\n",
       "  <tbody>\n",
       "    <tr>\n",
       "      <th>4</th>\n",
       "      <td>Arnott Fernández, Juan Ignacio</td>\n",
       "      <td>Educación física e deportiva</td>\n",
       "      <td>Martes</td>\n",
       "      <td>10:10-11:00</td>\n",
       "      <td></td>\n",
       "    </tr>\n",
       "    <tr>\n",
       "      <th>8</th>\n",
       "      <td>Cabezas Casal, Manuel María</td>\n",
       "      <td>Tecnoloxía</td>\n",
       "      <td>Martes</td>\n",
       "      <td>11:30-12:20</td>\n",
       "      <td></td>\n",
       "    </tr>\n",
       "    <tr>\n",
       "      <th>10</th>\n",
       "      <td>Canabal Guinarte, José Manuel</td>\n",
       "      <td>Administración</td>\n",
       "      <td>Martes</td>\n",
       "      <td>18:50-19:40</td>\n",
       "      <td></td>\n",
       "    </tr>\n",
       "    <tr>\n",
       "      <th>20</th>\n",
       "      <td>De La Fuente Mosquera, Fernando José</td>\n",
       "      <td>Administración</td>\n",
       "      <td>Martes</td>\n",
       "      <td>12:20-13:10</td>\n",
       "      <td></td>\n",
       "    </tr>\n",
       "    <tr>\n",
       "      <th>30</th>\n",
       "      <td>Fiaño Gándaras, Teresa</td>\n",
       "      <td>Lingua galega e literatura</td>\n",
       "      <td>Martes</td>\n",
       "      <td>09:20-10-10</td>\n",
       "      <td></td>\n",
       "    </tr>\n",
       "    <tr>\n",
       "      <th>33</th>\n",
       "      <td>García Rodríguez, Miguel</td>\n",
       "      <td>Física e química</td>\n",
       "      <td>Martes</td>\n",
       "      <td>10:10-11:00</td>\n",
       "      <td></td>\n",
       "    </tr>\n",
       "    <tr>\n",
       "      <th>43</th>\n",
       "      <td>Longueira Varela, Raquel</td>\n",
       "      <td>Administración</td>\n",
       "      <td>Martes</td>\n",
       "      <td>18:50-19:40</td>\n",
       "      <td></td>\n",
       "    </tr>\n",
       "    <tr>\n",
       "      <th>46</th>\n",
       "      <td>López Torres, Santiago</td>\n",
       "      <td>Lingua castelá e literatura</td>\n",
       "      <td>Martes</td>\n",
       "      <td>10:10-11:00</td>\n",
       "      <td></td>\n",
       "    </tr>\n",
       "    <tr>\n",
       "      <th>51</th>\n",
       "      <td>Martínez Pérez, Cristina</td>\n",
       "      <td>Informática</td>\n",
       "      <td>Martes</td>\n",
       "      <td>12:20-13:10</td>\n",
       "      <td></td>\n",
       "    </tr>\n",
       "    <tr>\n",
       "      <th>54</th>\n",
       "      <td>Mayor Rodríguez, Juan Antonio</td>\n",
       "      <td>Ciencias naturais</td>\n",
       "      <td>Martes</td>\n",
       "      <td>09:20-10-10</td>\n",
       "      <td></td>\n",
       "    </tr>\n",
       "    <tr>\n",
       "      <th>56</th>\n",
       "      <td>Miñones Garrido, Alfonso</td>\n",
       "      <td>Informática</td>\n",
       "      <td>Martes</td>\n",
       "      <td>18:50-19:40</td>\n",
       "      <td></td>\n",
       "    </tr>\n",
       "    <tr>\n",
       "      <th>66</th>\n",
       "      <td>Pastur Goicoa, Antonio</td>\n",
       "      <td>Matemáticas</td>\n",
       "      <td>Martes</td>\n",
       "      <td>13:10-14:00</td>\n",
       "      <td></td>\n",
       "    </tr>\n",
       "    <tr>\n",
       "      <th>71</th>\n",
       "      <td>Pérez Rodríguez, José Luis</td>\n",
       "      <td>Administración</td>\n",
       "      <td>Martes</td>\n",
       "      <td>10:10-11:00</td>\n",
       "      <td></td>\n",
       "    </tr>\n",
       "    <tr>\n",
       "      <th>76</th>\n",
       "      <td>Richer Arias, Pilar</td>\n",
       "      <td>Inglés</td>\n",
       "      <td>Martes</td>\n",
       "      <td>09:20-10-10</td>\n",
       "      <td></td>\n",
       "    </tr>\n",
       "    <tr>\n",
       "      <th>78</th>\n",
       "      <td>Rivas Díaz, María Amalia</td>\n",
       "      <td>Formación e orientación laboral</td>\n",
       "      <td>Martes</td>\n",
       "      <td>10:10-11:00</td>\n",
       "      <td></td>\n",
       "    </tr>\n",
       "    <tr>\n",
       "      <th>80</th>\n",
       "      <td>Rodríguez Otero, Susana</td>\n",
       "      <td>Orientación</td>\n",
       "      <td>Martes</td>\n",
       "      <td>10:10-11:00</td>\n",
       "      <td></td>\n",
       "    </tr>\n",
       "    <tr>\n",
       "      <th>81</th>\n",
       "      <td>Rodríguez Rodríguez, María del Rosario</td>\n",
       "      <td>Administración</td>\n",
       "      <td>Martes</td>\n",
       "      <td>10:10-11:00</td>\n",
       "      <td></td>\n",
       "    </tr>\n",
       "    <tr>\n",
       "      <th>86</th>\n",
       "      <td>Sánchez Regueiro, Mª Victoria</td>\n",
       "      <td>Lingua galega e literatura</td>\n",
       "      <td>Martes</td>\n",
       "      <td>11:30-12:20</td>\n",
       "      <td></td>\n",
       "    </tr>\n",
       "    <tr>\n",
       "      <th>93</th>\n",
       "      <td>Vázquez Villodas, Rubén</td>\n",
       "      <td>Administración</td>\n",
       "      <td>Martes</td>\n",
       "      <td>18:00-18:50</td>\n",
       "      <td></td>\n",
       "    </tr>\n",
       "  </tbody>\n",
       "</table>\n",
       "</div>"
      ],
      "text/plain": [
       "                                Profesor/a                       Departamento  \\\n",
       "4           Arnott Fernández, Juan Ignacio     Educación física e deportiva   \n",
       "8              Cabezas Casal, Manuel María                        Tecnoloxía   \n",
       "10           Canabal Guinarte, José Manuel                    Administración   \n",
       "20    De La Fuente Mosquera, Fernando José                    Administración   \n",
       "30                  Fiaño Gándaras, Teresa         Lingua galega e literatura   \n",
       "33                García Rodríguez, Miguel                 Física e química   \n",
       "43                Longueira Varela, Raquel                    Administración   \n",
       "46                  López Torres, Santiago       Lingua castelá e literatura   \n",
       "51                Martínez Pérez, Cristina                       Informática   \n",
       "54           Mayor Rodríguez, Juan Antonio                  Ciencias naturais   \n",
       "56                Miñones Garrido, Alfonso                       Informática   \n",
       "66                  Pastur Goicoa, Antonio                       Matemáticas   \n",
       "71              Pérez Rodríguez, José Luis                    Administración   \n",
       "76                     Richer Arias, Pilar                            Inglés   \n",
       "78                Rivas Díaz, María Amalia  Formación e orientación laboral   \n",
       "80                 Rodríguez Otero, Susana                       Orientación   \n",
       "81  Rodríguez Rodríguez, María del Rosario                    Administración   \n",
       "86           Sánchez Regueiro, Mª Victoria         Lingua galega e literatura   \n",
       "93                 Vázquez Villodas, Rubén                    Administración   \n",
       "\n",
       "   Titoría. Dia Semana Titoría. Hora Sustituto/a  \n",
       "4               Martes   10:10-11:00              \n",
       "8               Martes   11:30-12:20              \n",
       "10              Martes   18:50-19:40              \n",
       "20              Martes   12:20-13:10              \n",
       "30              Martes   09:20-10-10              \n",
       "33              Martes   10:10-11:00              \n",
       "43              Martes   18:50-19:40              \n",
       "46              Martes   10:10-11:00              \n",
       "51              Martes   12:20-13:10              \n",
       "54              Martes   09:20-10-10              \n",
       "56              Martes   18:50-19:40              \n",
       "66              Martes   13:10-14:00              \n",
       "71              Martes   10:10-11:00              \n",
       "76              Martes   09:20-10-10              \n",
       "78              Martes   10:10-11:00              \n",
       "80              Martes   10:10-11:00              \n",
       "81              Martes   10:10-11:00              \n",
       "86              Martes   11:30-12:20              \n",
       "93              Martes   18:00-18:50              "
      ]
     },
     "execution_count": 79,
     "metadata": {},
     "output_type": "execute_result"
    }
   ],
   "source": [
    "df = pd.DataFrame(lista_fil)\n",
    "df = df.rename(columns=df.iloc[0])\n",
    "df = df.drop(0)\n",
    "df2 = df[df['Titoría. Dia Semana']=='Martes']\n",
    "df2"
   ]
  },
  {
   "cell_type": "markdown",
   "id": "b7da572a-5fe9-4cb8-9737-1f1d37f49c5c",
   "metadata": {},
   "source": [
    "## EX 2"
   ]
  },
  {
   "cell_type": "code",
   "execution_count": 168,
   "id": "ad72625f-8056-4d59-ae06-74f65a7e2a5e",
   "metadata": {},
   "outputs": [],
   "source": [
    "#PAXINA DE REDDIT\n",
    "#https://www.reddit.com/\n",
    "url2 = 'https://www.reddit.com/'\n",
    "paxina2 = requests.get(url2)\n",
    "soup2 = BeautifulSoup(paxina2.content, 'html.parser')"
   ]
  },
  {
   "cell_type": "code",
   "execution_count": 169,
   "id": "7396ce4c-debb-427c-a5ae-72cc2caa407a",
   "metadata": {},
   "outputs": [],
   "source": [
    "#MOSTRA A PARTE DE CSS (style) QUE TEN A PÁXINA NA CABECEIRA, UTILIZANDO O PRETTIFY"
   ]
  },
  {
   "cell_type": "code",
   "execution_count": 170,
   "id": "5988e3ea-b83d-4377-9bc7-906bccaec415",
   "metadata": {},
   "outputs": [
    {
     "name": "stdout",
     "output_type": "stream",
     "text": [
      "<style>\n",
      " /* http://meyerweb.com/eric/tools/css/reset/\n",
      "    v2.0 | 20110126\n",
      "    License: none (public domain)\n",
      "  */\n",
      "\n",
      "  html, body, div, span, applet, object, iframe,\n",
      "  h1, h2, h3, h4, h5, h6, p, blockquote, pre,\n",
      "  a, abbr, acronym, address, big, button, cite, code,\n",
      "  del, dfn, em, img, input, ins, kbd, q, s, samp,\n",
      "  small, strike, strong, sub, sup, tt, var,\n",
      "  b, u, i, center,\n",
      "  dl, dt, dd, ol, ul, li,\n",
      "  fieldset, form, label, legend,\n",
      "  table, caption, tbody, tfoot, thead, tr, th, td,\n",
      "  article, aside, canvas, details, embed,\n",
      "  figure, figcaption, footer, header, hgroup,\n",
      "  menu, nav, output, ruby, section, summary,\n",
      "  time, mark, audio, video {\n",
      "    margin: 0;\n",
      "    padding: 0;\n",
      "    border: 0;\n",
      "    font-size: 100%;\n",
      "    font: inherit;\n",
      "    vertical-align: baseline;\n",
      "  }\n",
      "\n",
      "  /* HTML5 display-role reset for older browsers */\n",
      "  article, aside, details, figcaption, figure,\n",
      "  footer, header, hgroup, menu, nav, section {\n",
      "    display: block;\n",
      "  }\n",
      "  body {\n",
      "    line-height: 1;\n",
      "    font-family: BentonSans, sans-serif;\n",
      "  }\n",
      "  ol, ul {\n",
      "    list-style: none;\n",
      "  }\n",
      "  blockquote, q {\n",
      "    quotes: none;\n",
      "  }\n",
      "  blockquote:before, blockquote:after,\n",
      "  q:before, q:after {\n",
      "    content: '';\n",
      "    content: none;\n",
      "  }\n",
      "  table {\n",
      "    border-collapse: collapse;\n",
      "    border-spacing: 0;\n",
      "  }\n",
      "  a {\n",
      "    color: inherit;\n",
      "    text-decoration: inherit;\n",
      "  }\n",
      "\n",
      "  html, body {\n",
      "    width: 100%;\n",
      "    margin: 0;\n",
      "  }\n",
      "\n",
      "  /* HTML5 display-role reset for older browsers */\n",
      "  article, aside, details, figcaption, figure,\n",
      "  footer, header, hgroup, menu, nav, section {\n",
      "    display: block;\n",
      "  }\n",
      "\n",
      "  button {\n",
      "    background: transparent;\n",
      "    border: none;\n",
      "    color: inherit;\n",
      "    cursor: pointer;\n",
      "    padding: initial;\n",
      "  }\n",
      "\n",
      "  body {\n",
      "    min-height: calc(100vh - 48px);\n",
      "    line-height: 1;\n",
      "    font-family: IBMPlexSans, Arial, sans-serif;\n",
      "    -webkit-font-smoothing: antialiased;\n",
      "  }\n",
      "\n",
      "  body ::-moz-selection {\n",
      "    background-color: #7dbcff99;\n",
      "  }\n",
      "\n",
      "  input, textarea, [contenteditable] {\n",
      "    \n",
      "  font-family: Noto Sans, Arial, sans-serif;\n",
      "  font-size: 14px;\n",
      "  font-weight: 400;\n",
      "  line-height: 21px;\n",
      "\n",
      "    font-family: inherit;\n",
      "  }\n",
      "</style>\n",
      "\n"
     ]
    }
   ],
   "source": [
    "print(soup2.head.style.prettify())"
   ]
  },
  {
   "cell_type": "code",
   "execution_count": 171,
   "id": "a53d73f3-1545-4493-95fb-eb8d0a1f27a7",
   "metadata": {},
   "outputs": [],
   "source": [
    "#MOSTRA AS 10 COMUNIDADES MÁIS POPULARES NO MOMENTO\n",
    "#https://www.reddit.com/subreddits/leaderboard/\n",
    "#AINDA QUE NON O NECESITAMOS NESTA PÁXINA, PROBA A UTILIZAR UN USER AGENT QUE DIGA QUE UTILIZAS UN NAVEGADOR\n",
    "#(Ex: 'Mozilla/5.0 (X11; Ubuntu; Linux x86_64; rv:94.0) Gecko/20100101 Firefox/94.0')\n",
    "url2 = 'https://www.reddit.com/subreddits/leaderboard/'\n",
    "headers2 = { 'User-Agent' : 'Mozilla/5.0 (X11; Ubuntu; Linux x86_64; rv:94.0) Gecko/20100101 Firefox/94.0' }\n",
    "paxina2 = requests.get(url2,headers=headers2)\n",
    "soup2 = BeautifulSoup(paxina2.content, 'html.parser')"
   ]
  },
  {
   "cell_type": "code",
   "execution_count": 172,
   "id": "f04d794b-a95c-4484-9595-4ef50b2e7854",
   "metadata": {},
   "outputs": [
    {
     "name": "stdout",
     "output_type": "stream",
     "text": [
      "1 \t /r/Damnthatsinteresting/\n",
      "2 \t /r/Tinder/\n",
      "3 \t /r/science/\n",
      "4 \t /r/worldnews/\n",
      "5 \t /r/therewasanattempt/\n",
      "6 \t /r/tifu/\n",
      "7 \t /r/Cringetopia/\n",
      "8 \t /r/FunnyAnimals/\n",
      "9 \t /r/boxoffice/\n",
      "10 \t /r/Jokes/\n"
     ]
    }
   ],
   "source": [
    "divis = soup2.find('div', class_='_3GPSAJ3Tfj_PbjPQbBl707')\n",
    "enlaces = divis.find_all('a', class_='_2ARwkAW45Urhf_fMfAMi5_ _3WPeZCt6k7JXmTo4Kcf1vQ')\n",
    "for i in range(0,10): print (i+1,'\\t',enlaces[i].get('href'))"
   ]
  },
  {
   "cell_type": "code",
   "execution_count": 165,
   "id": "4f34840d-6e5f-49df-b610-dcc262d1f1f3",
   "metadata": {},
   "outputs": [],
   "source": [
    "#MOSTRA ALGÚNS DOS FIOS MAIS VOTADOS NESTE ANO EN R/TODAYILEARNED\n",
    "#https://www.reddit.com/r/todayilearned/"
   ]
  },
  {
   "cell_type": "code",
   "execution_count": 176,
   "id": "4c8a6af6-c924-4cbb-9574-d7bc026cf5ff",
   "metadata": {},
   "outputs": [],
   "source": [
    "url_base = 'https://www.reddit.com/r/todayilearned/'\n",
    "url2 = url_base+'top/?t=year'\n",
    "paxina2 = requests.get(url2)\n",
    "soup2 = BeautifulSoup(paxina2.content, 'html.parser')"
   ]
  },
  {
   "cell_type": "code",
   "execution_count": 190,
   "id": "c76f90f1-f119-4655-a40a-3b248366c7d8",
   "metadata": {},
   "outputs": [
    {
     "name": "stdout",
     "output_type": "stream",
     "text": [
      "TIL that slaveholders in the US knew that enslaved people were escaping to Mexico, the U.S. tried to get Mexico to sign a fugitive slave treaty, but Mexico refused to sign such a treaty, insisting that all enslaved people were free once they set foot on Mexican soil.\n",
      "\n",
      "TIL Genghis Khan would marry off a daughter to the king of an allied nation. Then he would assign his new son in law to military duty in the Mongol wars, while his daughter took over the rule. Most sons in law died in combat, giving his daughters complete control of these nations\n",
      "\n",
      "TIL: Microsoft tried a 4-day workweek in Japan as part of a \"Work Life Choice Challenge\" by shutting down offices every Friday. Productivity, measured by sales per employee, increased by almost 40% compared to the same period the previous year.\n",
      "\n",
      "TIL that William Whipple, one of the 56 signers of the Declaration of Independence, freed his slave after signing it because he believed one cannot simultaneously fight for freedom and hold another person in bondage.\n",
      "\n",
      "TIL before any details of Pixar’s ‘Soul’ were public, a Black chauffeur told Kemp Powers (the film’s co-writer & co-director) that he knew Pixar was making a Black movie because he had never driven so many Black people to Pixar before.\n",
      "\n",
      "TIL Apple co-founder Steve Wozniak has disdain for money and large wealth accumulation. In 2017 he said he didn’t want to be near money, because it could corrupt your values. When Apple went public, Wozniak offered $10 million of his stock to early Apple employees, something Jobs refused to do.\n",
      "\n",
      "TIL that a school principal once made a student who'd gotten into trouble sit in the basement & read the U.S. Constitution as punishment. That student (who committed the Constitution to memory as a result) was Thurgood Marshall, who went on to become the first Black Supreme Court justice.\n",
      "\n"
     ]
    }
   ],
   "source": [
    "divis = soup2.find('div',class_='rpBJOHq2PR60pnwJlUyP0')\n",
    "div = divis.find_all('h3',class_='_eYtD2XCVieq6emjKBH3m')\n",
    "for i in div:\n",
    "    print(i.text)\n",
    "    print(\"\")"
   ]
  },
  {
   "cell_type": "code",
   "execution_count": null,
   "id": "0a08d359-9061-4166-bb59-ebae429d5c1c",
   "metadata": {},
   "outputs": [],
   "source": [
    "#MOSTRA DE QUE TRATA ESTA COMUNIDADE DE REDDIT (Acerca de la comunidad)\n",
    "#https://www.reddit.com/r/explainlikeimfive/"
   ]
  },
  {
   "cell_type": "code",
   "execution_count": 195,
   "id": "285959a1-b166-4480-8f3c-aa091543cdfa",
   "metadata": {},
   "outputs": [],
   "source": [
    "url2 = 'https://www.reddit.com/r/explainlikeimfive/'\n",
    "paxina2 = requests.get(url2)\n",
    "soup2 = BeautifulSoup(paxina2.content, 'html.parser')"
   ]
  },
  {
   "cell_type": "code",
   "execution_count": 200,
   "id": "80537944-b423-4d89-97de-6c55ec5c2457",
   "metadata": {},
   "outputs": [
    {
     "data": {
      "text/plain": [
       "\"Explain Like I'm Five is the best forum and archive on the internet for layperson-friendly explanations.\\n\\n\\nDon't Panic!\""
      ]
     },
     "execution_count": 200,
     "metadata": {},
     "output_type": "execute_result"
    }
   ],
   "source": [
    "soup2.find('div',class_='_1zPvgKHteTOub9dKkvrOl4').text"
   ]
  },
  {
   "cell_type": "code",
   "execution_count": null,
   "id": "ef380ae0-eb27-4804-a1f1-575a0f956dc4",
   "metadata": {},
   "outputs": [],
   "source": [
    "#NESTE FIO DE DATAISBEAUTIFUL, MOSTRA O ENLACE E O TEXTO ALTERNATIVO DA IMAXE\n",
    "#https://www.reddit.com/r/dataisbeautiful/comments/i9ljw9/i_analysed_70_years_of_baby_names_in_the_us_to/"
   ]
  },
  {
   "cell_type": "code",
   "execution_count": 202,
   "id": "041f8dcb-d030-4fc8-94b7-74c73ab70f11",
   "metadata": {},
   "outputs": [],
   "source": [
    "url2 = 'https://www.reddit.com/r/dataisbeautiful/comments/i9ljw9/i_analysed_70_years_of_baby_names_in_the_us_to/'\n",
    "paxina2 = requests.get(url2)\n",
    "soup2 = BeautifulSoup(paxina2.content, 'html.parser')"
   ]
  },
  {
   "cell_type": "code",
   "execution_count": 241,
   "id": "f11826e3-8e72-479a-96ca-101c8645aee6",
   "metadata": {},
   "outputs": [
    {
     "name": "stdout",
     "output_type": "stream",
     "text": [
      "https://preview.redd.it/eukx9llouyg51.png?width=960&crop=smart&auto=webp&s=5bea00bef34c17510f0ee8910836cea51870b4da \n",
      "\n",
      " r/dataisbeautiful - I analysed 70 years of baby names in the US to decide what to call a male Karen. It's Terry. [OC]\n"
     ]
    }
   ],
   "source": [
    "imaxe_total = soup2.find('div',class_='_3Oa0THmZ3f5iZXAQ0hBJ0k')\n",
    "print(imaxe_total.img.get('src'),\"\\n\\n\",imaxe_total.img.get('alt'))"
   ]
  },
  {
   "cell_type": "code",
   "execution_count": null,
   "id": "6e9bf377-8481-4f71-b1ca-3506ff9c4b45",
   "metadata": {},
   "outputs": [],
   "source": []
  }
 ],
 "metadata": {
  "kernelspec": {
   "display_name": "Python 3 (ipykernel)",
   "language": "python",
   "name": "python3"
  },
  "language_info": {
   "codemirror_mode": {
    "name": "ipython",
    "version": 3
   },
   "file_extension": ".py",
   "mimetype": "text/x-python",
   "name": "python",
   "nbconvert_exporter": "python",
   "pygments_lexer": "ipython3",
   "version": "3.8.12"
  }
 },
 "nbformat": 4,
 "nbformat_minor": 5
}
